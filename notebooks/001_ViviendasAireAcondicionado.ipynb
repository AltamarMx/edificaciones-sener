{
 "cells": [
  {
   "cell_type": "code",
   "execution_count": 1,
   "id": "15886cd3-9019-4305-a8c6-3c3fc90feb47",
   "metadata": {},
   "outputs": [],
   "source": [
    "import pandas as pd\n",
    "import numpy as np"
   ]
  },
  {
   "cell_type": "code",
   "execution_count": 2,
   "id": "4bb23ca9-88ed-42da-8dbe-0604b71f4462",
   "metadata": {},
   "outputs": [
    {
     "name": "stdout",
     "output_type": "stream",
     "text": [
      "33162148\n",
      "6646747\n"
     ]
    }
   ],
   "source": [
    "f = '../data/encevi.csv'\n",
    "columnas = ['folio','tipo_viv','total_niv','super_cons',\n",
    "            'super_ter','tot_cuart','electri','local_com',\n",
    "            # 'cons_med1','cons_med2','inicia1','mes_inicia1',\n",
    "            # 'inica2','mes_inicia2',\n",
    "           ]\n",
    "encevi = pd.read_csv(f,usecols=columnas)\n",
    "columnas = encevi.columns\n",
    "encevi.set_index('folio', inplace=True)\n",
    "\n",
    "f = '../data/vivienda.csv'\n",
    "columnas = ['folio','factor_sem']\n",
    "vivienda = pd.read_csv(f,usecols=columnas)\n",
    "vivienda.set_index('folio',inplace=True)\n",
    "\n",
    "vivienda = vivienda.join(encevi,how='inner')\n",
    "print(vivienda.factor_sem.sum())\n",
    "\n",
    "# f = '../data/encevi_result_db_041722.csv'\n",
    "# columnas = ['folioviv','bill_kwh_estimation','bill_days']\n",
    "# energia = pd.read_csv(f,usecols=columnas,index_col=0)\n",
    "\n",
    "f = '../data/aireacond.csv'\n",
    "aireacond = pd.read_csv(f)\n",
    "\n",
    "vivienda = aireacond.join(vivienda,how='inner')\n",
    "vivienda.index.names = ['folio']\n",
    "print(vivienda.factor_sem.sum())\n"
   ]
  },
  {
   "cell_type": "code",
   "execution_count": 4,
   "id": "6b94a2ef-7026-4342-b62c-02db6862b1c6",
   "metadata": {},
   "outputs": [
    {
     "name": "stdout",
     "output_type": "stream",
     "text": [
      "Viviendas con aire acondicionado:   4,908,985 (14.8%)\n",
      "Viviendas sin aire acondicionado:  28,253,163 (85.2%)\n"
     ]
    },
    {
     "data": {
      "text/plain": [
       "np.int64(33162148)"
      ]
     },
     "execution_count": 4,
     "metadata": {},
     "output_type": "execute_result"
    }
   ],
   "source": [
    "\n",
    "# ENCEVI + vivienda (todas las viviendas con su factor de expansión)\n",
    "encevi = pd.read_csv('../data/encevi.csv', usecols=[\n",
    "    'folio','tipo_viv','total_niv','super_cons','super_ter','tot_cuart','electri','local_com'\n",
    "]).set_index('folio')\n",
    "vivienda = (\n",
    "    pd.read_csv('../data/vivienda.csv', usecols=['folio','factor_sem'])\n",
    "      .set_index('folio')\n",
    "      .join(encevi, how='inner')\n",
    ")\n",
    "\n",
    "aireacond = pd.read_csv('../data/aireacond.csv', usecols=['folio'])\n",
    "# Crea una Serie booleana: True si ese folio tiene AC\n",
    "vivienda['has_ac'] = vivienda.index.isin(aireacond['folio'])\n",
    "\n",
    "# Total de viviendas (ponderado)\n",
    "total_viv = vivienda['factor_sem'].sum()\n",
    "\n",
    "# Sólo las que tienen AC\n",
    "total_con_ac = vivienda.loc[vivienda['has_ac'], 'factor_sem'].sum()\n",
    "\n",
    "# Las que NO tienen AC\n",
    "total_sin_ac = total_viv - total_con_ac\n",
    "\n",
    "# print(f\"Total viviendas:                   {total_viv:,.0f}\")\n",
    "print(f\"Viviendas con aire acondicionado:   {total_con_ac:,.0f} ({total_con_ac/total_viv*100:,.1f}%)\")\n",
    "print(f\"Viviendas sin aire acondicionado:  {total_sin_ac:,.0f} ({total_sin_ac/total_viv*100:,.1f}%)\")\n",
    "\n",
    "vivienda.factor_sem.sum()"
   ]
  },
  {
   "cell_type": "code",
   "execution_count": null,
   "id": "bc1600f7-782e-4b6f-852f-39f5ca71fa3b",
   "metadata": {},
   "outputs": [],
   "source": []
  }
 ],
 "metadata": {
  "kernelspec": {
   "display_name": "Python 3 (ipykernel)",
   "language": "python",
   "name": "python3"
  },
  "language_info": {
   "codemirror_mode": {
    "name": "ipython",
    "version": 3
   },
   "file_extension": ".py",
   "mimetype": "text/x-python",
   "name": "python",
   "nbconvert_exporter": "python",
   "pygments_lexer": "ipython3",
   "version": "3.13.0"
  }
 },
 "nbformat": 4,
 "nbformat_minor": 5
}
